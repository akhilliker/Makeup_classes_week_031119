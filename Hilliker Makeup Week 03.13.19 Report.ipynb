{
 "cells": [
  {
   "cell_type": "markdown",
   "metadata": {},
   "source": [
    "# Make up Materials\n",
    "\n",
    "I missed class on 03/11, 03/13, and 03/16/19 for a family vacation that I had planned before I knew about the bootcamp. I have been working remotely while on vacation and upon my return to make up the missed course time and material. "
   ]
  },
  {
   "cell_type": "markdown",
   "metadata": {},
   "source": [
    "## Class for Monday 03/11/19:\n",
    "\n",
    "This class was dedicated to group work. I put in a lot of hours last week and continued to work on it through this week, putting in more than the 3 hours of class time (as I'm sure everyone did!) To show the work that I did, I'm including my notebook entry with my code in this repo. I had a data set that I was able to crack into early on into the assignment, so I kept trying more things and playing with the data.  You'll see from this notebook that I have a lot of different graphs and variations, only some of which went into our final presentation and report.  I'm hoping that this work will satisfy my absence for Monday. I also stayed in touch with my group throughout the week, so that I could contribute in whatever way was needed at that time. I think they are satistified with my contributions and were (thankfully) very understanding of the issues related to working remotely. \n",
    "\n",
    "Please see notebook \"State_Rate_of_Brewery_Growth.ipynb\" in Folder \"Project Code\""
   ]
  },
  {
   "cell_type": "markdown",
   "metadata": {},
   "source": [
    "## Class for Wednesday 03/13/19:\n",
    "\n",
    "Part of the class was dedicated to learning SQL and part dedicated to group work.  As mentioned above, I was working on the group project and communicating with my group all week. I watched the Panapto video and completed all of the in class excercies.  My completed versions are in the folder \"Class Activities.\" \n",
    "\n",
    "Class summary:\n",
    "In class, we were introduced to SQL using mySQL as an interface. We learned the syntax to create databases and tables, how to populate the tables, and alter them.  We learned how to define several datatypes and how to specify whether a series requires an entry (using \"NOT NULL\"). We practiced these skills by making a database with our favorite movies, songs, and food.  I'll warn you that my favorite songs and films could vary based on the day and my mood...  but my favorite foods will always include peanut butter and chocolate. Evidence of my learning gains can be found in 0313IndividualExercise1.sql and animal_db_create.sql and screen captures for quick reference are provided below."
   ]
  },
  {
   "cell_type": "markdown",
   "metadata": {},
   "source": [
    "#### In Class Exercise from 03/13/19\n",
    "![alt text](animal_db.png)"
   ]
  },
  {
   "cell_type": "markdown",
   "metadata": {},
   "source": [
    "#### Individual Exercise from 03/13/19\n",
    "![alt text](0313IndividualExercise1.png)"
   ]
  },
  {
   "cell_type": "markdown",
   "metadata": {},
   "source": [
    "## Class for Saturday 03/16/19:\n",
    "\n",
    "We had some new material on SQL and then the class presentations, which I missed.  I'm really disappointed that I missed them, as if people were having as much fun as we were, they were probably great. I contributed to my group's presentation by making graphs and slides.  I commented on others' slides and helped answer questions when things were done enough in advance for me to contribute. For the section of slides that I presented, I recorded my voice over the slides so I could contribute to the presentation.  Apparently because of audio issues, it wasn't viewed in class.  This repo contains a link to the whole presentation (there is a video link on slide 12) or you can view the video directly at https://www.youtube.com/watch?v=ndDeVLwoGWw&feature=youtu.be  And I've included my code for the graphs that I made (in the \"Project Code\" folder), as well as PNGs of my graphs (in the \"Images\" folder).  As you can see, I got a little carried away with data analysis, but I was having fun and each way of looking at the data brought up more questions. \n",
    "\n",
    "For the rest of class, we continued our introduction of SQL, including exposure to the graphic user interface portions of MySQL. The video had no audio for this day, but I was able to follow along with stepping through the GUI interface. I like that MySQL shows the code after you've built the table using the create table menus.  That is very useful for someone new to this program and it is nice that you can make changes to that code before running it. I was suprised that you have to use TINYINT and 0/1 for Boolean data. I also played around with the form editor as a way of entering new records and that was intuitive and easy to use. Here is a screen shot of my animal_db table built using the GUI interface:\n",
    "\n",
    "![alt text](animal_db_GUI.png)\n",
    "\n"
   ]
  },
  {
   "cell_type": "markdown",
   "metadata": {},
   "source": [
    "I completed the first individual exercise by creating the table using the GUI interface (that is why there is no code in the file) and then used code to insert the data, alter it, and add a new column (the bonus). Here is a screenshot of the code and the table.  If you want to see the code, it is in file 031619IndividualExercise1.sql\n",
    "\n",
    "![alt text](031619IndividualExercise1.png)\n"
   ]
  },
  {
   "cell_type": "markdown",
   "metadata": {},
   "source": [
    "Next, we learned about JOINing related data from two tables. Since the code was already provided, I looked over the code and then tried to predict what would be returned before running the code.  I did fairly well and I've included a picture of my notes below.  Now I understand the joining that Drew showed on the board at the beginning of yesterday's class!  Man, I wish I had finished reviewing this class before that.  But I think I understand joining (and aliasing) better now. \n",
    "\n",
    "![alt text](JOINexercise.jpeg)"
   ]
  },
  {
   "cell_type": "markdown",
   "metadata": {},
   "source": [
    "Hopefully, between my work on the group project and my explanation of the in class activities here, I've shown that I have worked through the class materials sufficiently for the classes I missed this week (03/11, 03/13, 03/16/19). If you'd like to see anything else, please let me know.  Thanks!"
   ]
  },
  {
   "cell_type": "code",
   "execution_count": null,
   "metadata": {},
   "outputs": [],
   "source": []
  }
 ],
 "metadata": {
  "kernelspec": {
   "display_name": "Python 3",
   "language": "python",
   "name": "python3"
  },
  "language_info": {
   "codemirror_mode": {
    "name": "ipython",
    "version": 3
   },
   "file_extension": ".py",
   "mimetype": "text/x-python",
   "name": "python",
   "nbconvert_exporter": "python",
   "pygments_lexer": "ipython3",
   "version": "3.7.1"
  }
 },
 "nbformat": 4,
 "nbformat_minor": 2
}
